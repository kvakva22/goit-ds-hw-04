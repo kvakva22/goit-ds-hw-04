import numpy as np
#1
a1 = np.arange(1, 11)
print(a1,'\n')
#2
a2 = np.zeros((3, 3))
print(a2, '\n')
#3
a3 = np.random.randint(1, 11, size=(5, 5))
print(a3, '\n')
#4
a4 = np.random.random((4, 4))
print(a4, '\n')
#5
a5 = np.random.randint(1, 11, size=5)
a6 = np.random.randint(1, 11, size=5)

addition = a5 + a6
subtraction = a5 - a6
multiplication = a5 * a6

print("Масив 1:", a5)
print("Масив 2:", a6)
print("Додавання:", addition)
print("Віднімання:", subtraction)
print("Множення:", multiplication)
#6
a7=np.random.random(size=7)
a8=np.random.random(size=7)

print('\n', "Скалярний добуток 7 та 8 векторів:", np.dot(a7, a8))
#7
a9 = np.random.randint(1, 11, size=(2, 2))
a10 = np.random.randint(1, 11, size=(2, 3))

print('Результат множення векторів:','\n',  np.dot(a9, a10),'\n')
#8
a11 = np.random.randint(1, 11, size=(3, 3))

print('Матриця:','\n', a11, '\n')
print('Обернена матриця:','\n', np.linalg.inv(a11), '\n')
#9
a12 = np.random.random(size=(4, 4))

print('Матриця:','\n', a12, '\n')
print('Транспонована матриця:','\n', a12.T, '\n')

#10
a12 = np.random.randint(1, 11, size=(3, 4))
a13 = np.random.randint(1, 11, size = 4)

print('Матриця: ','\n', a12, '\n')
print('Вектор: ', a13, '\n')
print('Результат множення матриці на вектор:','\n', np.dot(a12, a13), '\n')

#11
a14 = np.random.random(size=(3, 4))
a15 = np.random.random(size=4)

print('Матриця:','\n', a14, '\n')
print('Вектор:', a15, '\n')
print('Результат множення матриці на вектор:','\n', np.dot(a14,a15), '\n')

#12
a16 = np.random.randint(1, 11, size=(2, 2))
a17 = np.random.randint(1, 11, size=(2, 2))

print('Матриця 1:','\n', a16, '\n')
print('Матриця 2:','\n', a17, '\n')
print('Результат поелементного множення матриць:','\n', a16*a17, '\n')

#13
a18 = np.random.randint(1, 11, size = (2, 2))
a19 = np.random.randint(1, 11, size = (2, 2))

print('Матриця 1:','\n', a18, '\n')
print('Матриця 2:','\n', a19, '\n')
print('Добуток', '\n', np.dot(a18,a19), '\n')

#14
a20 = np.random.randint(1, 101, size = (5, 5))
print('Матриця:','\n', a20, '\n')
print('Сума всіх елементів елементів матриці:', np.sum(a20), '\n')

#15
a21 = np.random.randint(1, 11, size = (4,4))
a22 = np.random.randint(1, 11, size = (4,4))

print('Матриця 1:','\n', a21, '\n')
print('Матриця 2:','\n', a22, '\n')
print('Різниця матриць:','\n', a21-a22, '\n')

#16
a23 = np.random.random(size = (3,3))
print('Матриця:','\n', a23, '\n')
print('Сума елементів у кожному рядку:', np.sum(a23, axis=1))

#17
a24 = np.random.randint(1, 11, size = (3,4))
print('Матриця:','\n', a24, '\n')
print('Ця матриця з числами у квадраті', '\n', a24**2, '\n')

#18
a25 = np.random.randint(1, 51, size=4)
print('Вектор:', a25, '\n')
print('Квадратний корень цього вектора:', np.sqrt(a25))
