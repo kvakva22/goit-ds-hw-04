{
  "metadata": {
    "kernelspec": {
      "name": "python",
      "display_name": "Python (Pyodide)",
      "language": "python"
    },
    "language_info": {
      "codemirror_mode": {
        "name": "python",
        "version": 3
      },
      "file_extension": ".py",
      "mimetype": "text/x-python",
      "name": "python",
      "nbconvert_exporter": "python",
      "pygments_lexer": "ipython3",
      "version": "3.8"
    }
  },
  "nbformat_minor": 5,
  "nbformat": 4,
  "cells": [
    {
      "id": "851aac36-f63c-4f1b-a32f-0d6745b8e2b4",
      "cell_type": "code",
      "source": "import numpy as np",
      "metadata": {
        "trusted": true
      },
      "outputs": [],
      "execution_count": 1
    },
    {
      "id": "9b3a152b-6817-429c-b734-ab1df138fb58",
      "cell_type": "code",
      "source": "a1 = np.arange(1, 11)\nprint(a1,'\\n')",
      "metadata": {
        "jp-MarkdownHeadingCollapsed": true,
        "trusted": true
      },
      "outputs": [
        {
          "name": "stdout",
          "text": "[ 1  2  3  4  5  6  7  8  9 10] \n\n",
          "output_type": "stream"
        }
      ],
      "execution_count": 2
    },
    {
      "id": "a0a6b12d-d191-4188-a6e6-948d499e2961",
      "cell_type": "code",
      "source": "a2 = np.zeros((3, 3))\nprint(a2, '\\n')",
      "metadata": {
        "trusted": true
      },
      "outputs": [
        {
          "name": "stdout",
          "text": "[[0. 0. 0.]\n [0. 0. 0.]\n [0. 0. 0.]] \n\n",
          "output_type": "stream"
        }
      ],
      "execution_count": 3
    },
    {
      "id": "5f1b8986-8c1c-4853-9dee-bcf4b50e1878",
      "cell_type": "code",
      "source": "a3 = np.random.randint(1, 11, size=(5, 5))\nprint(a3, '\\n')",
      "metadata": {
        "trusted": true
      },
      "outputs": [
        {
          "name": "stdout",
          "text": "[[ 6 10  4  7  5]\n [ 8  7  9 10  8]\n [ 9  8  7  6  1]\n [ 1  7  4  2  6]\n [ 2  5  7  8  6]] \n\n",
          "output_type": "stream"
        }
      ],
      "execution_count": 4
    },
    {
      "id": "b7d39b6c-ee19-4721-b8d8-506ee60f1f4e",
      "cell_type": "code",
      "source": "a4 = np.random.random((4, 4))\nprint(a4, '\\n')",
      "metadata": {
        "trusted": true
      },
      "outputs": [
        {
          "name": "stdout",
          "text": "[[0.88690598 0.9174364  0.33452288 0.24900998]\n [0.71153931 0.41362234 0.46352604 0.38270852]\n [0.93635304 0.3515239  0.0037304  0.4962287 ]\n [0.67962449 0.38124976 0.38669614 0.07749901]] \n\n",
          "output_type": "stream"
        }
      ],
      "execution_count": 5
    },
    {
      "id": "783da4fc-315f-4dfa-8843-b0029ad8055d",
      "cell_type": "code",
      "source": "a5 = np.random.randint(1, 11, size=5)\na6 = np.random.randint(1, 11, size=5)\n\naddition = a5 + a6\nsubtraction = a5 - a6\nmultiplication = a5 * a6\n\nprint(\"Масив 1:\", a5)\nprint(\"Масив 2:\", a6)\nprint(\"Додавання:\", addition)\nprint(\"Віднімання:\", subtraction)\nprint(\"Множення:\", multiplication)",
      "metadata": {
        "trusted": true
      },
      "outputs": [
        {
          "name": "stdout",
          "text": "Масив 1: [1 5 7 8 9]\nМасив 2: [4 8 2 8 1]\nДодавання: [ 5 13  9 16 10]\nВіднімання: [-3 -3  5  0  8]\nМноження: [ 4 40 14 64  9]\n",
          "output_type": "stream"
        }
      ],
      "execution_count": 6
    },
    {
      "id": "8823ba9f-178f-4e6c-955f-e444858a73bd",
      "cell_type": "code",
      "source": "a7=np.random.random(size=7)\na8=np.random.random(size=7)\nprint('\\n', \"Скалярний добуток 7 та 8 векторів:\", np.dot(a7, a8))",
      "metadata": {
        "trusted": true
      },
      "outputs": [
        {
          "name": "stdout",
          "text": "\n Скалярний добуток 7 та 8 векторів: 1.9424366311635413\n",
          "output_type": "stream"
        }
      ],
      "execution_count": 7
    },
    {
      "id": "72e76972-83ef-4d0b-8493-0da937b90d05",
      "cell_type": "code",
      "source": "a9 = np.random.randint(1, 11, size=(2, 2))\na10 = np.random.randint(1, 11, size=(2, 3))\n\nprint('Результат множення векторів:','\\n',  np.dot(a9, a10),'\\n')",
      "metadata": {
        "trusted": true
      },
      "outputs": [
        {
          "name": "stdout",
          "text": "Результат множення векторів: \n [[ 33  62  58]\n [ 80 170 130]] \n\n",
          "output_type": "stream"
        }
      ],
      "execution_count": 8
    },
    {
      "id": "d1d9b542-8468-459d-9ef3-fd02cc7a556e",
      "cell_type": "code",
      "source": "a11 = np.random.randint(1, 11, size=(3, 3))\n\nprint('Матриця:','\\n', a11, '\\n')\nprint('Обернена матриця:','\\n', np.linalg.inv(a11), '\\n')",
      "metadata": {
        "trusted": true
      },
      "outputs": [
        {
          "name": "stdout",
          "text": "Матриця: \n [[ 7  9  4]\n [ 7  8  8]\n [ 6 10  2]] \n\nОбернена матриця: \n [[ 1.18518519 -0.40740741 -0.74074074]\n [-0.62962963  0.18518519  0.51851852]\n [-0.40740741  0.2962963   0.12962963]] \n\n",
          "output_type": "stream"
        }
      ],
      "execution_count": 9
    },
    {
      "id": "89d85177-136d-4ab7-81f3-a7f76d5a8c78",
      "cell_type": "code",
      "source": "a12 = np.random.random(size=(4, 4))\n\nprint('Матриця:','\\n', a12, '\\n')\nprint('Транспонована матриця:','\\n', a12.T, '\\n')",
      "metadata": {
        "trusted": true
      },
      "outputs": [
        {
          "name": "stdout",
          "text": "Матриця: \n [[0.87950092 0.99831051 0.60793198 0.94679132]\n [0.3138978  0.54357244 0.01307669 0.0061431 ]\n [0.16352095 0.371289   0.37923343 0.81500573]\n [0.94208719 0.95075561 0.76420149 0.05013612]] \n\nТранспонована матриця: \n [[0.87950092 0.3138978  0.16352095 0.94208719]\n [0.99831051 0.54357244 0.371289   0.95075561]\n [0.60793198 0.01307669 0.37923343 0.76420149]\n [0.94679132 0.0061431  0.81500573 0.05013612]] \n\n",
          "output_type": "stream"
        }
      ],
      "execution_count": 10
    },
    {
      "id": "6ae88953-32a0-40b5-8ea0-64319e5b3119",
      "cell_type": "code",
      "source": "a12 = np.random.randint(1, 11, size=(3, 4))\na13 = np.random.randint(1, 11, size = 4)\n\nprint('Матриця: ','\\n', a12, '\\n')\nprint('Вектор: ', a13, '\\n')\nprint('Результат множення матриці на вектор:','\\n', np.dot(a12, a13), '\\n')",
      "metadata": {
        "trusted": true
      },
      "outputs": [
        {
          "name": "stdout",
          "text": "Матриця:  \n [[5 7 2 2]\n [5 5 8 2]\n [2 9 4 2]] \n\nВектор:  [8 3 1 1] \n\nРезультат множення матриці на вектор: \n [65 65 49] \n\n",
          "output_type": "stream"
        }
      ],
      "execution_count": 11
    },
    {
      "id": "47403243-9a2d-40bf-99f3-893a7b52fbf3",
      "cell_type": "code",
      "source": "a14 = np.random.random(size=(3, 4))\na15 = np.random.random(size=4)\n\nprint('Матриця:','\\n', a14, '\\n')\nprint('Вектор:', a15, '\\n')\nprint('Результат множення матриці на вектор:','\\n', np.dot(a14,a15), '\\n')",
      "metadata": {
        "trusted": true
      },
      "outputs": [
        {
          "name": "stdout",
          "text": "Матриця: \n [[0.54963762 0.27179411 0.06847627 0.67234474]\n [0.69736998 0.38639156 0.23999564 0.61422358]\n [0.76623872 0.21627098 0.84711187 0.80987661]] \n\nВектор: [0.99292085 0.45222992 0.92124525 0.06189481] \n\nРезультат множення матриці на вектор: \n [0.77335817 1.12628312 1.68914356] \n\n",
          "output_type": "stream"
        }
      ],
      "execution_count": 12
    },
    {
      "id": "0174d4fb-a2e4-400a-802f-028d06dfdbb5",
      "cell_type": "code",
      "source": "a16 = np.random.randint(1, 11, size=(2, 2))\na17 = np.random.randint(1, 11, size=(2, 2))\n\nprint('Матриця 1:','\\n', a16, '\\n')\nprint('Матриця 2:','\\n', a17, '\\n')\nprint('Результат поелементного множення матриць:','\\n', a16*a17, '\\n')",
      "metadata": {
        "trusted": true
      },
      "outputs": [
        {
          "name": "stdout",
          "text": "Матриця 1: \n [[4 8]\n [5 5]] \n\nМатриця 2: \n [[10  3]\n [ 7  4]] \n\nРезультат поелементного множення матриць: \n [[40 24]\n [35 20]] \n\n",
          "output_type": "stream"
        }
      ],
      "execution_count": 13
    },
    {
      "id": "8ba4afbb-41b0-4c7e-ba01-0e1ee30737e3",
      "cell_type": "code",
      "source": "a18 = np.random.randint(1, 11, size = (2, 2))\na19 = np.random.randint(1, 11, size = (2, 2))\n\nprint('Матриця 1:','\\n', a18, '\\n')\nprint('Матриця 2:','\\n', a19, '\\n')\nprint('Добуток', '\\n', np.dot(a18,a19), '\\n')",
      "metadata": {
        "trusted": true
      },
      "outputs": [
        {
          "name": "stdout",
          "text": "Матриця 1: \n [[3 8]\n [4 1]] \n\nМатриця 2: \n [[5 1]\n [5 2]] \n\nДобуток \n [[55 19]\n [25  6]] \n\n",
          "output_type": "stream"
        }
      ],
      "execution_count": 14
    },
    {
      "id": "ce8d4252-a278-49f3-89c6-e337d5aa2bf9",
      "cell_type": "code",
      "source": "a20 = np.random.randint(1, 101, size = (5, 5))\nprint('Матриця:','\\n', a20, '\\n')\nprint('Сума всіх елементів елементів матриці:', np.sum(a20), '\\n')",
      "metadata": {
        "trusted": true
      },
      "outputs": [
        {
          "name": "stdout",
          "text": "Матриця: \n [[ 39  71  42   4 100]\n [ 68  90   1  42  76]\n [ 69  85  12  27   5]\n [ 78  74  53  50  21]\n [ 29  26  84  45  77]] \n\nСума всіх елементів елементів матриці: 1268 \n\n",
          "output_type": "stream"
        }
      ],
      "execution_count": 15
    },
    {
      "id": "ee90561f-420a-48a6-b233-2311afc3dc2e",
      "cell_type": "code",
      "source": "a21 = np.random.randint(1, 11, size = (4,4))\na22 = np.random.randint(1, 11, size = (4,4))\n\nprint('Матриця 1:','\\n', a21, '\\n')\nprint('Матриця 2:','\\n', a22, '\\n')\nprint('Різниця матриць:','\\n', a21-a22, '\\n')",
      "metadata": {
        "trusted": true
      },
      "outputs": [
        {
          "name": "stdout",
          "text": "Матриця 1: \n [[ 3  6  2  3]\n [10  3  4  9]\n [ 8  9  4 10]\n [ 1  9  6  7]] \n\nМатриця 2: \n [[ 3  3  4  5]\n [ 8  5  7 10]\n [ 5  2  2  3]\n [10 10 10  5]] \n\nРізниця матриць: \n [[ 0  3 -2 -2]\n [ 2 -2 -3 -1]\n [ 3  7  2  7]\n [-9 -1 -4  2]] \n\n",
          "output_type": "stream"
        }
      ],
      "execution_count": 16
    },
    {
      "id": "6b5cd34d-c4ef-479e-b8d7-6b467e8ff027",
      "cell_type": "code",
      "source": "a23 = np.random.random(size = (3,3))\nprint('Матриця:','\\n', a23, '\\n')\nprint('Сума елементів у кожному рядку:', np.sum(a23, axis=1))",
      "metadata": {
        "trusted": true
      },
      "outputs": [
        {
          "name": "stdout",
          "text": "Матриця: \n [[0.93374027 0.08453698 0.93937389]\n [0.58160413 0.89654218 0.42273716]\n [0.30580116 0.31667281 0.22028026]] \n\nСума елементів у кожному рядку: [1.95765114 1.90088348 0.84275424]\n",
          "output_type": "stream"
        }
      ],
      "execution_count": 17
    },
    {
      "id": "eeff5cad-07fe-4ceb-9484-0a79544d79c7",
      "cell_type": "code",
      "source": "a24 = np.random.randint(1, 11, size = (3,4))\nprint('Матриця:','\\n', a24, '\\n')\nprint('Ця матриця з числами у квадраті', '\\n', a24**2, '\\n')",
      "metadata": {
        "trusted": true
      },
      "outputs": [
        {
          "name": "stdout",
          "text": "Матриця: \n [[ 1  1  4  1]\n [ 2  5  9  3]\n [ 8  5  2 10]] \n\nЦя матриця з числами у квадраті \n [[  1   1  16   1]\n [  4  25  81   9]\n [ 64  25   4 100]] \n\n",
          "output_type": "stream"
        }
      ],
      "execution_count": 18
    },
    {
      "id": "5443d4af-e216-4523-bbba-ef10ae4647e4",
      "cell_type": "code",
      "source": "a25 = np.random.randint(1, 51, size=4)\nprint('Вектор:', a25, '\\n')\nprint('Квадратний корень цього вектора:', np.sqrt(a25))",
      "metadata": {
        "trusted": true
      },
      "outputs": [
        {
          "name": "stdout",
          "text": "Вектор: [28  7  2 47] \n\nКвадратний корень цього вектора: [5.29150262 2.64575131 1.41421356 6.8556546 ]\n",
          "output_type": "stream"
        }
      ],
      "execution_count": 19
    }
  ]
}